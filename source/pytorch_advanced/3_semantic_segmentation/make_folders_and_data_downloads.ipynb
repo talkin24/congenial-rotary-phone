{
 "cells": [
  {
   "cell_type": "markdown",
   "metadata": {},
   "source": [
    "# \"3장 시맨틱 분할\"의 준비 파일\n",
    "\n",
    "- 3장에서 사용하는 파일을 작성하고 폴더를 다운로드합니다."
   ]
  },
  {
   "cell_type": "code",
   "execution_count": null,
   "metadata": {},
   "outputs": [],
   "source": []
  },
  {
   "cell_type": "code",
   "execution_count": 1,
   "metadata": {},
   "outputs": [],
   "source": [
    "import os\n",
    "import urllib.request\n",
    "import zipfile\n",
    "import tarfile"
   ]
  },
  {
   "cell_type": "code",
   "execution_count": 2,
   "metadata": {},
   "outputs": [],
   "source": [
    "# \"data\" 폴더가 존재하지 않는 경우 작성한다\n",
    "data_dir = \"./data/\"\n",
    "if not os.path.exists(data_dir):\n",
    "    os.mkdir(data_dir)"
   ]
  },
  {
   "cell_type": "code",
   "execution_count": 3,
   "metadata": {},
   "outputs": [],
   "source": [
    "# \"weights\" 폴더가 존재하지 않는 경우 작성한다\n",
    "weights_dir = \"./weights/\"\n",
    "if not os.path.exists(weights_dir):\n",
    "    os.mkdir(weights_dir)"
   ]
  },
  {
   "cell_type": "code",
   "execution_count": 6,
   "metadata": {},
   "outputs": [],
   "source": [
    "# VOC2012의 데이터 세트를 다운로드합니다\n",
    "# 시간이 걸립니다(약 15분)\n",
    "url = \"http://host.robots.ox.ac.uk/pascal/VOC/voc2012/VOCtrainval_11-May-2012.tar\"\n",
    "target_path = os.path.join(data_dir, \"VOCtrainval_11-May-2012.tar\") \n",
    "\n",
    "if not os.path.exists(target_path):\n",
    "    urllib.request.urlretrieve(url, target_path)\n",
    "    \n",
    "    tar = tarfile.TarFile(target_path)  # tar 파일 읽기\n",
    "    tar.extractall(data_dir)  # tar 파일 압축 해제\n",
    "    tar.close()  # tar 파일 닫기\n",
    "    "
   ]
  },
  {
   "cell_type": "code",
   "execution_count": 5,
   "metadata": {},
   "outputs": [],
   "source": [
    "# \"weights\" 폴더에 네트워크의 초기치로써 사용할 \"pspnet50_ADE20K.pth\"를\n",
    "# 필자의 Google Drive에서 수동으로 다운로드\n",
    "    \n",
    "https://drive.google.com/open?id=12eN6SpnawYuQmD1k9VgVW3QSgPR6hICc\n",
    "    "
   ]
  },
  {
   "cell_type": "code",
   "execution_count": null,
   "metadata": {},
   "outputs": [],
   "source": [
    "※미리 실시된 내용\n",
    "승마 화상 다운로드\n",
    "\n",
    "https://pixabay.com/ja/photos/%E3%82%AB%E3%82%A6%E3%83%9C%E3%83%BC%E3%82%A4-%E9%A6%AC-%E4%B9%97%E9%A6%AC-%E6%B0%B4-%E6%B5%B7-757575/\n",
    "640×426 크기의 화상을 \"data\" 폴더에 배치\n",
    "(사진의 권리 정보: 상업적 사용 무료, 저작자 표시가 필요하지 않습니다)\n",
    "\n"
   ]
  },
  {
   "cell_type": "code",
   "execution_count": null,
   "metadata": {},
   "outputs": [],
   "source": [
    "(필자가 작성한) 학습된 PSPNet 모델 \"pspnet50_30.pth\"\n",
    "\n",
    "https://drive.google.com/open?id=192JenT9UTHjFb6fhwSdRgOWr8_RmDl4I\n",
    "\n",
    "반드시 다운로드할 필요는 없지만,\n",
    "PSPNet을 학습하기 전에, 학습된 모델을 미리 시도해보는 경우,\n",
    "위 링크에서 수동으로 다운로드한 \"pspnet50_30.pth\" 파일을 \"wights\" 폴더에 배치합니다.\n"
   ]
  },
  {
   "cell_type": "markdown",
   "metadata": {},
   "source": [
    "끝"
   ]
  }
 ],
 "metadata": {
  "kernelspec": {
   "display_name": "Python 3",
   "language": "python",
   "name": "python3"
  },
  "language_info": {
   "codemirror_mode": {
    "name": "ipython",
    "version": 3
   },
   "file_extension": ".py",
   "mimetype": "text/x-python",
   "name": "python",
   "nbconvert_exporter": "python",
   "pygments_lexer": "ipython3",
   "version": "3.6.5-final"
  }
 },
 "nbformat": 4,
 "nbformat_minor": 2
}